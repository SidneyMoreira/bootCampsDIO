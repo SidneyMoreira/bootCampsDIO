{
 "cells": [
  {
   "cell_type": "code",
   "execution_count": null,
   "id": "7013592e",
   "metadata": {},
   "outputs": [],
   "source": [
    "import pandas as pd"
   ]
  },
  {
   "cell_type": "code",
   "execution_count": null,
   "id": "16b505c3",
   "metadata": {},
   "outputs": [],
   "source": [
    "df = pd.read_csv(\"ocorrencia.csv\", sep=\";\", parse_dates=['ocorrencia_dia'], dayfirst=True)\n",
    "df.head()"
   ]
  },
  {
   "cell_type": "code",
   "execution_count": null,
   "id": "0cb3dc86",
   "metadata": {},
   "outputs": [],
   "source": [
    "df.loc[1,'ocorrencia_cidade']"
   ]
  },
  {
   "cell_type": "code",
   "execution_count": null,
   "id": "6ca3c264",
   "metadata": {},
   "outputs": [],
   "source": [
    "df.loc[1:3]"
   ]
  },
  {
   "cell_type": "code",
   "execution_count": null,
   "id": "f4c7062d",
   "metadata": {},
   "outputs": [],
   "source": [
    "df.loc[[10,40]]"
   ]
  },
  {
   "cell_type": "code",
   "execution_count": null,
   "id": "02f50dce",
   "metadata": {},
   "outputs": [],
   "source": [
    "df.loc[:,'ocorrencia_cidade']"
   ]
  },
  {
   "cell_type": "code",
   "execution_count": null,
   "id": "50b952f0",
   "metadata": {},
   "outputs": [],
   "source": [
    "df.codigo_ocorrencia.is_unique"
   ]
  },
  {
   "cell_type": "code",
   "execution_count": null,
   "id": "270b0ec8",
   "metadata": {},
   "outputs": [],
   "source": [
    "df.set_index('codigo_ocorrencia', inplace=True)"
   ]
  },
  {
   "cell_type": "code",
   "execution_count": null,
   "id": "ea312174",
   "metadata": {},
   "outputs": [],
   "source": [
    "df.head()"
   ]
  },
  {
   "cell_type": "code",
   "execution_count": null,
   "id": "2113d2d6",
   "metadata": {},
   "outputs": [],
   "source": [
    "df.loc[45331]"
   ]
  },
  {
   "cell_type": "code",
   "execution_count": null,
   "id": "c72ea6c9",
   "metadata": {},
   "outputs": [],
   "source": [
    "df.reset_index(drop=True, inplace=True)"
   ]
  },
  {
   "cell_type": "code",
   "execution_count": null,
   "id": "3e881218",
   "metadata": {},
   "outputs": [],
   "source": [
    "df.head()"
   ]
  },
  {
   "cell_type": "code",
   "execution_count": null,
   "id": "ec3ee0e8",
   "metadata": {},
   "outputs": [],
   "source": [
    "df.loc[2,'ocorrencia_aerodromo'] = ''"
   ]
  },
  {
   "cell_type": "code",
   "execution_count": null,
   "id": "5b296ad8",
   "metadata": {},
   "outputs": [],
   "source": [
    "df.loc[2]"
   ]
  },
  {
   "cell_type": "code",
   "execution_count": null,
   "id": "308528f0",
   "metadata": {},
   "outputs": [],
   "source": [
    "df.loc[:,'total_recomendacoes'] = 10"
   ]
  },
  {
   "cell_type": "code",
   "execution_count": null,
   "id": "cef4de97",
   "metadata": {},
   "outputs": [],
   "source": [
    "df"
   ]
  },
  {
   "cell_type": "code",
   "execution_count": null,
   "id": "533dfb4c",
   "metadata": {},
   "outputs": [],
   "source": [
    "df['ocorrencia_uf_bkp'] = df.ocorrencia_uf"
   ]
  },
  {
   "cell_type": "code",
   "execution_count": null,
   "id": "d848a002",
   "metadata": {},
   "outputs": [],
   "source": [
    "df"
   ]
  },
  {
   "cell_type": "code",
   "execution_count": null,
   "id": "9df48918",
   "metadata": {},
   "outputs": [],
   "source": [
    "df.loc[df.ocorrencia_uf == 'SP',['ocorrencia_classificacao']] = 'GRAVE'"
   ]
  },
  {
   "cell_type": "code",
   "execution_count": null,
   "id": "8cf528ab",
   "metadata": {},
   "outputs": [],
   "source": [
    "df"
   ]
  },
  {
   "cell_type": "code",
   "execution_count": null,
   "id": "708767fc",
   "metadata": {},
   "outputs": [],
   "source": [
    "df.loc[df.ocorrencia_uf == 'SP']"
   ]
  },
  {
   "cell_type": "code",
   "execution_count": null,
   "id": "7f436090",
   "metadata": {},
   "outputs": [],
   "source": [
    "df"
   ]
  },
  {
   "cell_type": "raw",
   "id": "a8434d36",
   "metadata": {},
   "source": [
    "ocorrencia_uf\n",
    "**\n",
    "\n",
    "ocorrencia_aerodromo\n",
    "****\n",
    "*****\n",
    "####\n",
    "###!\n",
    "\n",
    "ocorrencia_hora\n",
    "NULL"
   ]
  },
  {
   "cell_type": "code",
   "execution_count": null,
   "id": "8a5ea233",
   "metadata": {},
   "outputs": [],
   "source": [
    "df.head()"
   ]
  },
  {
   "cell_type": "code",
   "execution_count": null,
   "id": "8a453b35",
   "metadata": {},
   "outputs": [],
   "source": [
    "df.loc[df.ocorrencia_aerodromo == '****',['ocorrencia_aerodromo']] = pd.NA"
   ]
  },
  {
   "cell_type": "code",
   "execution_count": null,
   "id": "94d7b875",
   "metadata": {},
   "outputs": [],
   "source": [
    "df.head()"
   ]
  },
  {
   "cell_type": "code",
   "execution_count": null,
   "id": "fbf68219",
   "metadata": {},
   "outputs": [],
   "source": [
    "df.replace(['*****','****','**','####','###!','NULL'],pd.NA,inplace=True)"
   ]
  },
  {
   "cell_type": "code",
   "execution_count": null,
   "id": "3964e2a7",
   "metadata": {},
   "outputs": [],
   "source": [
    "df.isna().sum()"
   ]
  },
  {
   "cell_type": "code",
   "execution_count": null,
   "id": "9d6b03f4",
   "metadata": {},
   "outputs": [],
   "source": [
    "df.isnull().sum()"
   ]
  },
  {
   "cell_type": "code",
   "execution_count": null,
   "id": "59a3e6f5",
   "metadata": {},
   "outputs": [],
   "source": [
    "df.fillna(10, inplace=True)"
   ]
  },
  {
   "cell_type": "code",
   "execution_count": null,
   "id": "29a81110",
   "metadata": {},
   "outputs": [],
   "source": [
    "df.isna().sum()"
   ]
  },
  {
   "cell_type": "code",
   "execution_count": null,
   "id": "4594c3cf",
   "metadata": {},
   "outputs": [],
   "source": [
    "df.head()"
   ]
  },
  {
   "cell_type": "code",
   "execution_count": null,
   "id": "91344aeb",
   "metadata": {},
   "outputs": [],
   "source": [
    "df.replace([10],pd.NA,inplace=True)"
   ]
  },
  {
   "cell_type": "code",
   "execution_count": null,
   "id": "9bab5da2",
   "metadata": {},
   "outputs": [],
   "source": [
    "df.isna().sum()"
   ]
  },
  {
   "cell_type": "code",
   "execution_count": null,
   "id": "fcfae864",
   "metadata": {},
   "outputs": [],
   "source": [
    "df.fillna(value={'total_recomendacoes':10}, inplace=True)"
   ]
  },
  {
   "cell_type": "code",
   "execution_count": null,
   "id": "9c2844a1",
   "metadata": {},
   "outputs": [],
   "source": [
    "df.isna().sum()"
   ]
  },
  {
   "cell_type": "code",
   "execution_count": null,
   "id": "b793a80d",
   "metadata": {},
   "outputs": [],
   "source": [
    "df['total_recomendacoes_bkp'] = df.total_recomendacoes"
   ]
  },
  {
   "cell_type": "code",
   "execution_count": null,
   "id": "c19d9386",
   "metadata": {},
   "outputs": [],
   "source": [
    "df.head()"
   ]
  },
  {
   "cell_type": "code",
   "execution_count": null,
   "id": "d9275cbd",
   "metadata": {},
   "outputs": [],
   "source": [
    "df.drop(['total_recomendacoes_bkp'],axis=1, inplace=True)"
   ]
  },
  {
   "cell_type": "code",
   "execution_count": null,
   "id": "dd157e0d",
   "metadata": {},
   "outputs": [],
   "source": [
    "df.head()"
   ]
  },
  {
   "cell_type": "code",
   "execution_count": null,
   "id": "97a47083",
   "metadata": {},
   "outputs": [],
   "source": [
    "df.dropna()"
   ]
  },
  {
   "cell_type": "code",
   "execution_count": null,
   "id": "ecf42985",
   "metadata": {},
   "outputs": [],
   "source": [
    "df"
   ]
  },
  {
   "cell_type": "code",
   "execution_count": null,
   "id": "34d4b3f3",
   "metadata": {},
   "outputs": [],
   "source": [
    "df.dropna(subset=['ocorrencia_uf'])"
   ]
  },
  {
   "cell_type": "code",
   "execution_count": null,
   "id": "191785cc",
   "metadata": {},
   "outputs": [],
   "source": [
    "df.drop_duplicates(inplace-True)"
   ]
  },
  {
   "cell_type": "code",
   "execution_count": null,
   "id": "99566dd2",
   "metadata": {},
   "outputs": [],
   "source": []
  }
 ],
 "metadata": {
  "kernelspec": {
   "display_name": "Python 3 (ipykernel)",
   "language": "python",
   "name": "python3"
  },
  "language_info": {
   "codemirror_mode": {
    "name": "ipython",
    "version": 3
   },
   "file_extension": ".py",
   "mimetype": "text/x-python",
   "name": "python",
   "nbconvert_exporter": "python",
   "pygments_lexer": "ipython3",
   "version": "3.9.7"
  }
 },
 "nbformat": 4,
 "nbformat_minor": 5
}
