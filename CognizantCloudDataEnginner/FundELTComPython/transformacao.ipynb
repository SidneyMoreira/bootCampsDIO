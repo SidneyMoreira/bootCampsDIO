{
 "cells": [
  {
   "cell_type": "code",
   "execution_count": null,
   "id": "3af76f95",
   "metadata": {},
   "outputs": [],
   "source": [
    "import pandas as pd\n",
    "import pandera as pa"
   ]
  },
  {
   "cell_type": "code",
   "execution_count": null,
   "id": "327dc28b",
   "metadata": {},
   "outputs": [],
   "source": [
    "valores_ausentes = ['*****','****','**','####','###!','NULL']\n",
    "df = pd.read_csv(\"ocorrencia.csv\", sep=\";\", \n",
    "                 parse_dates=['ocorrencia_dia'], \n",
    "                 dayfirst=True, \n",
    "                 na_values = valores_ausentes)\n",
    "df.head(10)"
   ]
  },
  {
   "cell_type": "code",
   "execution_count": null,
   "id": "99a1fef2",
   "metadata": {},
   "outputs": [],
   "source": [
    "schema = pa.DataFrameSchema(\n",
    "    columns = {\n",
    "        \"codigo_ocorrencia\":pa.Column(pa.Int),\n",
    "        \"codigo_ocorrencia2\":pa.Column(pa.Int),\n",
    "        \"ocorrencia_classificacao\":pa.Column(pa.String),\n",
    "        \"ocorrencia_cidade\":pa.Column(pa.String),\n",
    "        \"ocorrencia_uf\":pa.Column(pa.String,\n",
    "                                  pa.Check.str_length(2,2),\n",
    "                                  nullable=True),\n",
    "        \"ocorrencia_aerodromo\":pa.Column(pa.String, \n",
    "                                         nullable=True),\n",
    "        \"ocorrencia_dia\":pa.Column(pa.DateTime),\n",
    "        \"ocorrencia_hora\":pa.Column(pa.String, \n",
    "                                    pa.Check.str_matches(r'^([0-1]?[0-9]|[2][0-3]):([0-5][0-9])(:[0-5][0-9])?$'), \n",
    "                                    nullable=True),\n",
    "        \"total_recomendacoes\":pa.Column(pa.Int)\n",
    "    }\n",
    ")"
   ]
  },
  {
   "cell_type": "code",
   "execution_count": null,
   "id": "f91c21c4",
   "metadata": {},
   "outputs": [],
   "source": [
    "schema.validate(df)"
   ]
  },
  {
   "cell_type": "code",
   "execution_count": null,
   "id": "0defddfe",
   "metadata": {},
   "outputs": [],
   "source": [
    "df.dtypes"
   ]
  },
  {
   "cell_type": "code",
   "execution_count": null,
   "id": "d37927cd",
   "metadata": {},
   "outputs": [],
   "source": [
    "df.loc[1]"
   ]
  },
  {
   "cell_type": "code",
   "execution_count": null,
   "id": "b84d1e1f",
   "metadata": {},
   "outputs": [],
   "source": [
    "df.iloc[-1]"
   ]
  },
  {
   "cell_type": "code",
   "execution_count": null,
   "id": "d494c3f7",
   "metadata": {},
   "outputs": [],
   "source": [
    "df.tail()"
   ]
  },
  {
   "cell_type": "code",
   "execution_count": null,
   "id": "ae8ebae0",
   "metadata": {},
   "outputs": [],
   "source": [
    "df.iloc[10:15]"
   ]
  },
  {
   "cell_type": "code",
   "execution_count": null,
   "id": "1cfd12d7",
   "metadata": {},
   "outputs": [],
   "source": [
    "df.loc[10:15]"
   ]
  },
  {
   "cell_type": "code",
   "execution_count": null,
   "id": "d6652a4c",
   "metadata": {},
   "outputs": [],
   "source": [
    "df.loc[:,'ocorrencia_uf']"
   ]
  },
  {
   "cell_type": "code",
   "execution_count": null,
   "id": "99b62ebe",
   "metadata": {},
   "outputs": [],
   "source": [
    "df['ocorrencia_uf']"
   ]
  },
  {
   "cell_type": "code",
   "execution_count": null,
   "id": "3ba46480",
   "metadata": {},
   "outputs": [],
   "source": [
    "df.isna().sum()"
   ]
  },
  {
   "cell_type": "code",
   "execution_count": null,
   "id": "cd4e9ef6",
   "metadata": {},
   "outputs": [],
   "source": [
    "df.isnull().sum()"
   ]
  },
  {
   "cell_type": "code",
   "execution_count": null,
   "id": "c5b360c8",
   "metadata": {},
   "outputs": [],
   "source": [
    "filtro = df.ocorrencia_uf.isnull()\n",
    "df.loc[filtro]"
   ]
  },
  {
   "cell_type": "code",
   "execution_count": null,
   "id": "61291885",
   "metadata": {},
   "outputs": [],
   "source": [
    "filtro = df.ocorrencia_aerodromo.isnull()\n",
    "df.loc[filtro]"
   ]
  },
  {
   "cell_type": "code",
   "execution_count": null,
   "id": "ef6d6bb9",
   "metadata": {},
   "outputs": [],
   "source": [
    "filtro = df.ocorrencia_hora.isnull()\n",
    "df.loc[filtro]"
   ]
  },
  {
   "cell_type": "code",
   "execution_count": null,
   "id": "7683849f",
   "metadata": {},
   "outputs": [],
   "source": [
    "df.count()"
   ]
  },
  {
   "cell_type": "code",
   "execution_count": null,
   "id": "5620c3d2",
   "metadata": {},
   "outputs": [],
   "source": [
    "#ocorrencias com mais 10 recomendações\n",
    "filtro = df.total_recomendacoes > 10\n",
    "df.loc[filtro]"
   ]
  },
  {
   "cell_type": "code",
   "execution_count": null,
   "id": "617db1b8",
   "metadata": {},
   "outputs": [],
   "source": [
    "#ocorrencias com mais 10 recomendações\n",
    "filtro = df.total_recomendacoes > 10\n",
    "df.loc[filtro, ['ocorrencia_cidade', 'total_recomendacoes']]"
   ]
  },
  {
   "cell_type": "code",
   "execution_count": null,
   "id": "cf3e2848",
   "metadata": {},
   "outputs": [],
   "source": [
    "#ocorrencias cuja classificação é \"INCIDENTE GRAVE\"\n",
    "filtro = df.ocorrencia_classificacao == 'INCIDENTE GRAVE'\n",
    "#df.loc[filtro, ['ocorrencia_cidade', 'ocorrencia_classificacao', 'total_recomendacoes']]\n",
    "df.loc[filtro]"
   ]
  },
  {
   "cell_type": "code",
   "execution_count": null,
   "id": "32193fe7",
   "metadata": {},
   "outputs": [],
   "source": [
    "#ocorrencias cuja classificação é \"INCIDENTE GRAVE\" e o estado == 'SP'\n",
    "filtro1 = df.ocorrencia_classificacao == 'INCIDENTE GRAVE'\n",
    "filtro2 = df.ocorrencia_uf == 'SP'\n",
    "#df.loc[filtro, ['ocorrencia_cidade', 'ocorrencia_classificacao', 'total_recomendacoes']]\n",
    "df.loc[filtro1 & filtro2]"
   ]
  },
  {
   "cell_type": "code",
   "execution_count": null,
   "id": "15335da1",
   "metadata": {},
   "outputs": [],
   "source": [
    "#ocorrencias cuja classificação é \"INCIDENTE GRAVE\" ou o estado == 'SP'\n",
    "filtro1 = df.ocorrencia_classificacao == 'INCIDENTE GRAVE'\n",
    "filtro2 = df.ocorrencia_uf == 'SP'\n",
    "#df.loc[filtro, ['ocorrencia_cidade', 'ocorrencia_classificacao', 'total_recomendacoes']]\n",
    "df.loc[filtro1 | filtro2]"
   ]
  },
  {
   "cell_type": "code",
   "execution_count": null,
   "id": "3b4b44c4",
   "metadata": {},
   "outputs": [],
   "source": [
    "#ocorrencias cuja classificação é \"INCIDENTE GRAVE\" ou classificao == INCIDADE e o estado == 'SP'\n",
    "filtro1 = (df.ocorrencia_classificacao == 'INCIDENTE GRAVE') | (df.ocorrencia_classificacao == 'INCIDENTE')\n",
    "filtro2 = df.ocorrencia_uf == 'SP'\n",
    "df.loc[filtro1 | filtro2]"
   ]
  },
  {
   "cell_type": "code",
   "execution_count": null,
   "id": "81afd70e",
   "metadata": {},
   "outputs": [],
   "source": [
    "#ocorrencias cuja classificação é \"INCIDENTE GRAVE\" ou classificao == INCIDADE e o estado == 'SP'\n",
    "filtro1 = df.ocorrencia_classificacao.isin(['INCIDENTE GRAVE', 'INCIDENTE'])\n",
    "filtro2 = df.ocorrencia_uf == 'SP'\n",
    "df.loc[filtro1 | filtro2]"
   ]
  },
  {
   "cell_type": "code",
   "execution_count": null,
   "id": "fdb82aef",
   "metadata": {},
   "outputs": [],
   "source": [
    "#ocorrencias cuja cidade começa com C \n",
    "filtro = df.ocorrencia_cidade.str[0] == 'C'\n",
    "df.loc[filtro]"
   ]
  },
  {
   "cell_type": "code",
   "execution_count": null,
   "id": "003594b8",
   "metadata": {},
   "outputs": [],
   "source": [
    "#ocorrencias cuja cidade terminam com A \n",
    "filtro = df.ocorrencia_cidade.str[-1] == 'A'\n",
    "df.loc[filtro]"
   ]
  },
  {
   "cell_type": "code",
   "execution_count": null,
   "id": "6205d700",
   "metadata": {},
   "outputs": [],
   "source": [
    "#ocorrencias cuja cidade terminam com MA \n",
    "filtro = df.ocorrencia_cidade.str[-2:] == 'MA'\n",
    "df.loc[filtro]"
   ]
  },
  {
   "cell_type": "code",
   "execution_count": null,
   "id": "39c10949",
   "metadata": {},
   "outputs": [],
   "source": [
    "#ocorrencias cuja cidade contem (em qualquer parte do conteudo) com MA \n",
    "filtro = df.ocorrencia_cidade.str.contains('MA | AL')\n",
    "df.loc[filtro]"
   ]
  },
  {
   "cell_type": "code",
   "execution_count": null,
   "id": "b6b3e385",
   "metadata": {},
   "outputs": [],
   "source": [
    "#ocorrencias do ano de 2015 \n",
    "filtro = df.ocorrencia_dia.dt.year == 2015\n",
    "df.loc[filtro]"
   ]
  },
  {
   "cell_type": "code",
   "execution_count": null,
   "id": "cd6cfd54",
   "metadata": {},
   "outputs": [],
   "source": [
    "#ocorrencias do ano de 2015 e mÊs 12 e dias entre 2 e 8\n",
    "#filtro = (df.ocorrencia_dia.dt.year == 2015) & (df.ocorrencia_dia.dt.month == 12)\n",
    "filtro_ano = (df.ocorrencia_dia.dt.year == 2015) \n",
    "filtro_mes = (df.ocorrencia_dia.dt.month == 12)\n",
    "# filtro_dia = (df.ocorrencia_dia.dt.day >2) & (df.ocorrencia_dia.dt.day < 9)\n",
    "filtro_dia_inicio = (df.ocorrencia_dia.dt.day >2) \n",
    "filtro_dia_fim = (df.ocorrencia_dia.dt.day < 9)\n",
    "df.loc[filtro_ano & filtro_mes & filtro_dia_inicio & filtro_dia_fim]"
   ]
  },
  {
   "cell_type": "code",
   "execution_count": null,
   "id": "5d6a0435",
   "metadata": {},
   "outputs": [],
   "source": [
    "df['ocorrencia_dia_hora'] = pd.to_datetime(df.ocorrencia_dia.astype(str) + ' ' + df.ocorrencia_hora)"
   ]
  },
  {
   "cell_type": "code",
   "execution_count": null,
   "id": "f129edab",
   "metadata": {},
   "outputs": [],
   "source": [
    "df.head()"
   ]
  },
  {
   "cell_type": "code",
   "execution_count": null,
   "id": "a87b247a",
   "metadata": {},
   "outputs": [],
   "source": [
    "df.dtypes"
   ]
  },
  {
   "cell_type": "code",
   "execution_count": null,
   "id": "c7c65c5a",
   "metadata": {},
   "outputs": [],
   "source": [
    "#ocorrencias do ano de 2015 e mÊs 12 e dias entre 2 e 8\n",
    "filtro_ano = (df.ocorrencia_dia_hora.dt.year == 2015) \n",
    "filtro_mes = (df.ocorrencia_dia_hora.dt.month == 12)\n",
    "filtro_dia_inicio = (df.ocorrencia_dia_hora.dt.day >2) \n",
    "filtro_dia_fim = (df.ocorrencia_dia_hora.dt.day < 9)\n",
    "df.loc[filtro_ano & filtro_mes & filtro_dia_inicio & filtro_dia_fim]"
   ]
  },
  {
   "cell_type": "code",
   "execution_count": null,
   "id": "0d4310fc",
   "metadata": {},
   "outputs": [],
   "source": [
    "filtro1 = df.ocorrencia_dia_hora >= '2015-12-03 11:00:00'\n",
    "filtro2 = df.ocorrencia_dia_hora <= '2015-12-08 13:00:00'\n",
    "df.loc[filtro1 & filtro2]"
   ]
  },
  {
   "cell_type": "code",
   "execution_count": null,
   "id": "85a195d5",
   "metadata": {},
   "outputs": [],
   "source": [
    "#ocorrencias do ano de 2015 e mes 03\n",
    "filtro_ano = df.ocorrencia_dia.dt.year == 2015\n",
    "filtro_mes = df.ocorrencia_dia.dt.month == 3\n",
    "df201503 = df.loc[filtro_ano & filtro_mes]\n",
    "df201503"
   ]
  },
  {
   "cell_type": "code",
   "execution_count": null,
   "id": "a349477e",
   "metadata": {},
   "outputs": [],
   "source": [
    "df201503.count()"
   ]
  },
  {
   "cell_type": "code",
   "execution_count": null,
   "id": "b48140d4",
   "metadata": {},
   "outputs": [],
   "source": [
    "df201503.groupby(['ocorrencia_classificacao']).codigo_ocorrencia.count()"
   ]
  },
  {
   "cell_type": "code",
   "execution_count": null,
   "id": "4f5a2def",
   "metadata": {},
   "outputs": [],
   "source": [
    "#ignora dados nulos\n",
    "df201503.groupby(['ocorrencia_classificacao']).ocorrencia_aerodromo.count()"
   ]
  },
  {
   "cell_type": "code",
   "execution_count": null,
   "id": "aaca4210",
   "metadata": {},
   "outputs": [],
   "source": [
    "df201503.groupby(['ocorrencia_classificacao']).size()"
   ]
  },
  {
   "cell_type": "code",
   "execution_count": null,
   "id": "f0e1ca80",
   "metadata": {},
   "outputs": [],
   "source": [
    "df201503.groupby(['ocorrencia_classificacao']).size().sort_values()"
   ]
  },
  {
   "cell_type": "code",
   "execution_count": null,
   "id": "6a610053",
   "metadata": {},
   "outputs": [],
   "source": [
    "df201503.groupby(['ocorrencia_classificacao']).size().sort_values(ascending=False)"
   ]
  },
  {
   "cell_type": "code",
   "execution_count": null,
   "id": "2baf97f6",
   "metadata": {},
   "outputs": [],
   "source": [
    "#ocorrencias do ano de 2010\n",
    "filtro_ano = df.ocorrencia_dia.dt.year == 2012\n",
    "filtro_uf = df.ocorrencia_uf.isin(['SP','MG', 'ES', 'RJ'])\n",
    "dfsudeste2012 = df.loc[filtro_ano & filtro_uf]\n",
    "dfsudeste2012"
   ]
  },
  {
   "cell_type": "code",
   "execution_count": null,
   "id": "acf65e49",
   "metadata": {},
   "outputs": [],
   "source": [
    "dfsudeste2012.groupby(['ocorrencia_classificacao']).size()"
   ]
  },
  {
   "cell_type": "code",
   "execution_count": null,
   "id": "4417631c",
   "metadata": {},
   "outputs": [],
   "source": [
    "dfsudeste2012.count()"
   ]
  },
  {
   "cell_type": "code",
   "execution_count": null,
   "id": "56378989",
   "metadata": {},
   "outputs": [],
   "source": [
    "dfsudeste2012.groupby(['ocorrencia_uf', 'ocorrencia_classificacao']).size()"
   ]
  },
  {
   "cell_type": "code",
   "execution_count": null,
   "id": "6970ff34",
   "metadata": {},
   "outputs": [],
   "source": [
    "dfsudeste2012.groupby(['ocorrencia_cidade']).size().sort_values(ascending=False)"
   ]
  },
  {
   "cell_type": "code",
   "execution_count": null,
   "id": "89dfae30",
   "metadata": {},
   "outputs": [],
   "source": [
    "filtro1 = dfsudeste2012.ocorrencia_cidade == 'RIO DE JANEIRO'\n",
    "filtro2 = dfsudeste2012.total_recomendacoes > 0\n",
    "dfsudeste2012.loc[filtro1 & filtro2]"
   ]
  },
  {
   "cell_type": "code",
   "execution_count": null,
   "id": "0e5414e3",
   "metadata": {},
   "outputs": [],
   "source": [
    "filtro = dfsudeste2012.ocorrencia_cidade == 'RIO DE JANEIRO'\n",
    "\n",
    "dfsudeste2012.loc[filtro].total_recomendacoes.sum()"
   ]
  },
  {
   "cell_type": "code",
   "execution_count": null,
   "id": "d5962230",
   "metadata": {},
   "outputs": [],
   "source": [
    "dfsudeste2012.groupby(['ocorrencia_aerodromo'],dropna=False).total_recomendacoes.sum()"
   ]
  },
  {
   "cell_type": "code",
   "execution_count": null,
   "id": "8245fdb1",
   "metadata": {},
   "outputs": [],
   "source": [
    "filtro = dfsudeste2012.total_recomendacoes > 0\n",
    "dfsudeste2012.loc[filtro].groupby(['ocorrencia_cidade']).total_recomendacoes.sum().sort_values()"
   ]
  },
  {
   "cell_type": "code",
   "execution_count": null,
   "id": "cd34318b",
   "metadata": {},
   "outputs": [],
   "source": [
    "\n",
    "dfsudeste2012.loc[filtro].groupby(['ocorrencia_cidade',\n",
    "                                  dfsudeste2012.ocorrencia_dia.dt.month]).total_recomendacoes.sum()"
   ]
  },
  {
   "cell_type": "code",
   "execution_count": null,
   "id": "c5d8c712",
   "metadata": {},
   "outputs": [],
   "source": [
    "filtro1 = dfsudeste2012.total_recomendacoes > 0\n",
    "filtro2 = dfsudeste2012.ocorrencia_cidade == 'SÃO PAULO'\n",
    "dfsudeste2012.loc[filtro1 & filtro2]"
   ]
  },
  {
   "cell_type": "code",
   "execution_count": null,
   "id": "feab0e84",
   "metadata": {},
   "outputs": [],
   "source": []
  }
 ],
 "metadata": {
  "kernelspec": {
   "display_name": "Python 3 (ipykernel)",
   "language": "python",
   "name": "python3"
  },
  "language_info": {
   "codemirror_mode": {
    "name": "ipython",
    "version": 3
   },
   "file_extension": ".py",
   "mimetype": "text/x-python",
   "name": "python",
   "nbconvert_exporter": "python",
   "pygments_lexer": "ipython3",
   "version": "3.9.7"
  }
 },
 "nbformat": 4,
 "nbformat_minor": 5
}
